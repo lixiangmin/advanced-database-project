{
 "cells": [
  {
   "cell_type": "code",
   "execution_count": 1,
   "metadata": {},
   "outputs": [
    {
     "data": {
      "text/plain": [
       "[('credits',),\n",
       " ('keywords',),\n",
       " ('keywords_metadata',),\n",
       " ('movies_metadata',),\n",
       " ('ratings',),\n",
       " ('ratings_small',)]"
      ]
     },
     "execution_count": 1,
     "metadata": {},
     "output_type": "execute_result"
    }
   ],
   "source": [
    "from clickhouse_driver import Client\n",
    "# client = Client(host='192.168.113.129', port='9999', database='movie', user='default') \n",
    "client = Client(host='localhost', port='9000', database='movie', user='default') \n",
    "client.execute('show tables')  # 测试连接"
   ]
  },
  {
   "cell_type": "code",
   "execution_count": 2,
   "metadata": {},
   "outputs": [],
   "source": [
    "sql = \" SELECT \\\n",
    "            movieId, \\\n",
    "            visitParamExtractInt(json, 'id') AS keyId \\\n",
    "        FROM ( \\\n",
    "            SELECT \\\n",
    "                k.id AS movieId, \\\n",
    "                k.keywords AS data, \\\n",
    "                JSONExtractArrayRaw(data) AS arr, \\\n",
    "                arrayJoin(arr) AS json \\\n",
    "            FROM keywords as k\\\n",
    "        ) ORDER BY (movieId, keyId);\"\n",
    "\n",
    "res = client.execute(sql)"
   ]
  },
  {
   "cell_type": "code",
   "execution_count": 3,
   "metadata": {},
   "outputs": [],
   "source": [
    "i = -1\n",
    "index = {}\n",
    "while i != len(res)-1:\n",
    "    i += 1\n",
    "    movieId = res[i][0]\n",
    "    keywords_index = []\n",
    "    while (i < len(res)-1) and (movieId == res[i+1][0]):\n",
    "        keywords_index.append(res[i][1])\n",
    "        i += 1\n",
    "        movieId = res[i][0]\n",
    "    keywords_index.append(res[i][1])\n",
    "    index[movieId] = keywords_index\n",
    "    # print(keywords_index)"
   ]
  },
  {
   "cell_type": "code",
   "execution_count": 4,
   "metadata": {},
   "outputs": [],
   "source": [
    "# 检查是否有遗漏\n",
    "test = client.execute(\"select id from keywords where keywords != '[]';\")\n",
    "for item in test:\n",
    "    i = item[0]\n",
    "    if i not in index: print(i)"
   ]
  },
  {
   "cell_type": "code",
   "execution_count": 14,
   "metadata": {},
   "outputs": [
    {
     "name": "stderr",
     "output_type": "stream",
     "text": [
      "100%|██████████| 31087/31087 [2:14:48<00:00,  3.14it/s]\n"
     ]
    }
   ],
   "source": [
    "# Update\n",
    "for k in tqdm(index.keys()):\n",
    "    sql = f\"ALTER TABLE keywords UPDATE keywords_index={index[k]} WHERE id={k}\"\n",
    "    # print(sql)\n",
    "    client.execute(sql)\n",
    "    # if(k==11): break"
   ]
  },
  {
   "cell_type": "code",
   "execution_count": 18,
   "metadata": {},
   "outputs": [
    {
     "name": "stdout",
     "output_type": "stream",
     "text": [
      "31087\n"
     ]
    },
    {
     "name": "stderr",
     "output_type": "stream",
     "text": [
      "  0%|          | 0/31087 [00:00<?, ?it/s]"
     ]
    },
    {
     "name": "stdout",
     "output_type": "stream",
     "text": [
      "2\n",
      "3\n",
      "5\n",
      "6\n",
      "11\n",
      "12\n",
      "13\n",
      "14\n",
      "15\n",
      "16\n"
     ]
    },
    {
     "name": "stderr",
     "output_type": "stream",
     "text": [
      "\n"
     ]
    },
    {
     "name": "stdout",
     "output_type": "stream",
     "text": [
      "468707\n"
     ]
    },
    {
     "data": {
      "text/plain": [
       "[2486, 14751, 202882]"
      ]
     },
     "execution_count": 18,
     "metadata": {},
     "output_type": "execute_result"
    }
   ],
   "source": [
    "# 1-5.4s\n",
    "# 5-6.8s\n",
    "# 31087-14m.23.2s\n",
    "print(len(index))\n",
    "from tqdm import tqdm \n",
    "\n",
    "cnt = 0\n",
    "for k in tqdm(index.keys()):\n",
    "    print(k)\n",
    "    cnt += 1\n",
    "    if cnt == 10:break\n",
    "print(max(index.keys()))\n",
    "index[468707]"
   ]
  },
  {
   "cell_type": "code",
   "execution_count": null,
   "metadata": {},
   "outputs": [],
   "source": []
  }
 ],
 "metadata": {
  "interpreter": {
   "hash": "f8f14ba6b5fcb42488dd627207bb811eb2ec5f6313d1fd60a109f6fcf405bbaf"
  },
  "kernelspec": {
   "display_name": "Python 3.6.6 32-bit",
   "name": "python3"
  },
  "language_info": {
   "codemirror_mode": {
    "name": "ipython",
    "version": 3
   },
   "file_extension": ".py",
   "mimetype": "text/x-python",
   "name": "python",
   "nbconvert_exporter": "python",
   "pygments_lexer": "ipython3",
   "version": "3.6.6"
  },
  "orig_nbformat": 4
 },
 "nbformat": 4,
 "nbformat_minor": 2
}
